{
  "nbformat": 4,
  "nbformat_minor": 0,
  "metadata": {
    "colab": {
      "name": "ARIMA, SARIMA.ipynb",
      "provenance": [],
      "collapsed_sections": [],
      "authorship_tag": "ABX9TyP285pqD1LVdm/FOE7UMOsJ"
    },
    "kernelspec": {
      "name": "python3",
      "display_name": "Python 3"
    },
    "language_info": {
      "name": "python"
    }
  },
  "cells": [
    {
      "cell_type": "code",
      "metadata": {
        "colab": {
          "base_uri": "https://localhost:8080/"
        },
        "id": "FJOUCiIHKMsp",
        "outputId": "cc0e3403-84fb-4ee1-ebba-9c2039699c38"
      },
      "source": [
        "from google.colab import drive\n",
        "import os.path\n",
        "\n",
        "drive.mount('/content/gdrive', force_remount=True)"
      ],
      "execution_count": null,
      "outputs": [
        {
          "output_type": "stream",
          "text": [
            "Mounted at /content/gdrive\n"
          ],
          "name": "stdout"
        }
      ]
    },
    {
      "cell_type": "code",
      "metadata": {
        "id": "WYvys36-LIXY"
      },
      "source": [
        "csv_path = os.path.join('gdrive','MyDrive','Machine Learning','Covid19stats.csv')"
      ],
      "execution_count": null,
      "outputs": []
    },
    {
      "cell_type": "code",
      "metadata": {
        "id": "PmxbZbbzMEx4"
      },
      "source": [
        "import pandas as pd\n",
        "df = pd.read_csv(csv_path,encoding='utf-8',index_col='จังหวัด')"
      ],
      "execution_count": null,
      "outputs": []
    },
    {
      "cell_type": "code",
      "metadata": {
        "colab": {
          "base_uri": "https://localhost:8080/"
        },
        "id": "FJMUdQ3N2G7c",
        "outputId": "c3d6980d-6c83-4213-e1f3-d0caea3bb368"
      },
      "source": [
        "df.T.iloc[0,:]"
      ],
      "execution_count": null,
      "outputs": [
        {
          "output_type": "execute_result",
          "data": {
            "text/plain": [
              "จังหวัด\n",
              "กรุงเทพมหานคร      156\n",
              "เชียงใหม่            2\n",
              "ชลบุรี              18\n",
              "ประจวบคีรีขันธ์      0\n",
              "นนทบุรี              1\n",
              "                  ... \n",
              "มุกดาหาร             0\n",
              "ยะลา                 0\n",
              "พิจิตร               0\n",
              "ชัยนาท               0\n",
              "สตูล                 0\n",
              "Name: 6-เม.ย., Length: 77, dtype: int64"
            ]
          },
          "metadata": {
            "tags": []
          },
          "execution_count": 24
        }
      ]
    },
    {
      "cell_type": "code",
      "metadata": {
        "id": "MEMkBFMe2Zdk"
      },
      "source": [
        "date = pd.to_datetime([i+1 for i in range(0,len(df.columns))], unit='D',\n",
        "               origin=pd.Timestamp('2021-04-05'))"
      ],
      "execution_count": null,
      "outputs": []
    },
    {
      "cell_type": "code",
      "metadata": {
        "id": "Wy9x4M3h2j5Z"
      },
      "source": [
        "df = df.T"
      ],
      "execution_count": null,
      "outputs": []
    },
    {
      "cell_type": "code",
      "metadata": {
        "id": "mUJhhYng3872"
      },
      "source": [
        "df['date'] = date"
      ],
      "execution_count": null,
      "outputs": []
    },
    {
      "cell_type": "code",
      "metadata": {
        "id": "L5Lt5gNJ4Kt5"
      },
      "source": [
        "df.set_index('date',inplace=True)\n",
        "df = df.T"
      ],
      "execution_count": null,
      "outputs": []
    },
    {
      "cell_type": "code",
      "metadata": {
        "id": "UJSHsLPkwe0E"
      },
      "source": [
        "df_bkk = pd.DataFrame()\n",
        "df_bkk['infection_rate'] = df.loc['กรุงเทพมหานคร',:]"
      ],
      "execution_count": null,
      "outputs": []
    },
    {
      "cell_type": "code",
      "metadata": {
        "colab": {
          "base_uri": "https://localhost:8080/"
        },
        "id": "32uS5xASMYAo",
        "outputId": "b9c269b4-e457-40ac-afa8-df83a9fac718"
      },
      "source": [
        "df.loc['กรุงเทพมหานคร',:]"
      ],
      "execution_count": null,
      "outputs": [
        {
          "output_type": "execute_result",
          "data": {
            "text/plain": [
              "date\n",
              "2021-04-06     156\n",
              "2021-04-07     216\n",
              "2021-04-08      95\n",
              "2021-04-09     266\n",
              "2021-04-10     185\n",
              "2021-04-11     236\n",
              "2021-04-12     137\n",
              "2021-04-13     194\n",
              "2021-04-14     351\n",
              "2021-04-15     409\n",
              "2021-04-16     312\n",
              "2021-04-17     279\n",
              "2021-04-18     346\n",
              "2021-04-19     293\n",
              "2021-04-20     350\n",
              "2021-04-21     365\n",
              "2021-04-22     446\n",
              "2021-04-23     740\n",
              "2021-04-24    1582\n",
              "2021-04-25    1078\n",
              "2021-04-26     901\n",
              "2021-04-27     993\n",
              "2021-04-28     830\n",
              "2021-04-29     689\n",
              "2021-04-30     417\n",
              "Name: กรุงเทพมหานคร, dtype: int64"
            ]
          },
          "metadata": {
            "tags": []
          },
          "execution_count": 10
        }
      ]
    },
    {
      "cell_type": "code",
      "metadata": {
        "colab": {
          "base_uri": "https://localhost:8080/",
          "height": 855
        },
        "id": "E7PCYcrS0aMy",
        "outputId": "b405086f-6b91-4ec7-d5df-2bfa7f903f0d"
      },
      "source": [
        "df_bkk"
      ],
      "execution_count": null,
      "outputs": [
        {
          "output_type": "execute_result",
          "data": {
            "text/html": [
              "<div>\n",
              "<style scoped>\n",
              "    .dataframe tbody tr th:only-of-type {\n",
              "        vertical-align: middle;\n",
              "    }\n",
              "\n",
              "    .dataframe tbody tr th {\n",
              "        vertical-align: top;\n",
              "    }\n",
              "\n",
              "    .dataframe thead th {\n",
              "        text-align: right;\n",
              "    }\n",
              "</style>\n",
              "<table border=\"1\" class=\"dataframe\">\n",
              "  <thead>\n",
              "    <tr style=\"text-align: right;\">\n",
              "      <th></th>\n",
              "      <th>infection_rate</th>\n",
              "    </tr>\n",
              "    <tr>\n",
              "      <th>date</th>\n",
              "      <th></th>\n",
              "    </tr>\n",
              "  </thead>\n",
              "  <tbody>\n",
              "    <tr>\n",
              "      <th>2021-04-06</th>\n",
              "      <td>156</td>\n",
              "    </tr>\n",
              "    <tr>\n",
              "      <th>2021-04-07</th>\n",
              "      <td>216</td>\n",
              "    </tr>\n",
              "    <tr>\n",
              "      <th>2021-04-08</th>\n",
              "      <td>95</td>\n",
              "    </tr>\n",
              "    <tr>\n",
              "      <th>2021-04-09</th>\n",
              "      <td>266</td>\n",
              "    </tr>\n",
              "    <tr>\n",
              "      <th>2021-04-10</th>\n",
              "      <td>185</td>\n",
              "    </tr>\n",
              "    <tr>\n",
              "      <th>2021-04-11</th>\n",
              "      <td>236</td>\n",
              "    </tr>\n",
              "    <tr>\n",
              "      <th>2021-04-12</th>\n",
              "      <td>137</td>\n",
              "    </tr>\n",
              "    <tr>\n",
              "      <th>2021-04-13</th>\n",
              "      <td>194</td>\n",
              "    </tr>\n",
              "    <tr>\n",
              "      <th>2021-04-14</th>\n",
              "      <td>351</td>\n",
              "    </tr>\n",
              "    <tr>\n",
              "      <th>2021-04-15</th>\n",
              "      <td>409</td>\n",
              "    </tr>\n",
              "    <tr>\n",
              "      <th>2021-04-16</th>\n",
              "      <td>312</td>\n",
              "    </tr>\n",
              "    <tr>\n",
              "      <th>2021-04-17</th>\n",
              "      <td>279</td>\n",
              "    </tr>\n",
              "    <tr>\n",
              "      <th>2021-04-18</th>\n",
              "      <td>346</td>\n",
              "    </tr>\n",
              "    <tr>\n",
              "      <th>2021-04-19</th>\n",
              "      <td>293</td>\n",
              "    </tr>\n",
              "    <tr>\n",
              "      <th>2021-04-20</th>\n",
              "      <td>350</td>\n",
              "    </tr>\n",
              "    <tr>\n",
              "      <th>2021-04-21</th>\n",
              "      <td>365</td>\n",
              "    </tr>\n",
              "    <tr>\n",
              "      <th>2021-04-22</th>\n",
              "      <td>446</td>\n",
              "    </tr>\n",
              "    <tr>\n",
              "      <th>2021-04-23</th>\n",
              "      <td>740</td>\n",
              "    </tr>\n",
              "    <tr>\n",
              "      <th>2021-04-24</th>\n",
              "      <td>1582</td>\n",
              "    </tr>\n",
              "    <tr>\n",
              "      <th>2021-04-25</th>\n",
              "      <td>1078</td>\n",
              "    </tr>\n",
              "    <tr>\n",
              "      <th>2021-04-26</th>\n",
              "      <td>901</td>\n",
              "    </tr>\n",
              "    <tr>\n",
              "      <th>2021-04-27</th>\n",
              "      <td>993</td>\n",
              "    </tr>\n",
              "    <tr>\n",
              "      <th>2021-04-28</th>\n",
              "      <td>830</td>\n",
              "    </tr>\n",
              "    <tr>\n",
              "      <th>2021-04-29</th>\n",
              "      <td>689</td>\n",
              "    </tr>\n",
              "    <tr>\n",
              "      <th>2021-04-30</th>\n",
              "      <td>417</td>\n",
              "    </tr>\n",
              "  </tbody>\n",
              "</table>\n",
              "</div>"
            ],
            "text/plain": [
              "            infection_rate\n",
              "date                      \n",
              "2021-04-06             156\n",
              "2021-04-07             216\n",
              "2021-04-08              95\n",
              "2021-04-09             266\n",
              "2021-04-10             185\n",
              "2021-04-11             236\n",
              "2021-04-12             137\n",
              "2021-04-13             194\n",
              "2021-04-14             351\n",
              "2021-04-15             409\n",
              "2021-04-16             312\n",
              "2021-04-17             279\n",
              "2021-04-18             346\n",
              "2021-04-19             293\n",
              "2021-04-20             350\n",
              "2021-04-21             365\n",
              "2021-04-22             446\n",
              "2021-04-23             740\n",
              "2021-04-24            1582\n",
              "2021-04-25            1078\n",
              "2021-04-26             901\n",
              "2021-04-27             993\n",
              "2021-04-28             830\n",
              "2021-04-29             689\n",
              "2021-04-30             417"
            ]
          },
          "metadata": {
            "tags": []
          },
          "execution_count": 11
        }
      ]
    },
    {
      "cell_type": "code",
      "metadata": {
        "id": "iTrkq7_P4UJL"
      },
      "source": [
        "df_bkk['infection_rate+1'] = df_bkk['infection_rate'].shift(-1)"
      ],
      "execution_count": null,
      "outputs": []
    },
    {
      "cell_type": "code",
      "metadata": {
        "colab": {
          "base_uri": "https://localhost:8080/",
          "height": 855
        },
        "id": "q5ha2xog4vn2",
        "outputId": "b1fd123c-0923-4aa8-fa30-d61371b832b9"
      },
      "source": [
        "df_bkk"
      ],
      "execution_count": null,
      "outputs": [
        {
          "output_type": "execute_result",
          "data": {
            "text/html": [
              "<div>\n",
              "<style scoped>\n",
              "    .dataframe tbody tr th:only-of-type {\n",
              "        vertical-align: middle;\n",
              "    }\n",
              "\n",
              "    .dataframe tbody tr th {\n",
              "        vertical-align: top;\n",
              "    }\n",
              "\n",
              "    .dataframe thead th {\n",
              "        text-align: right;\n",
              "    }\n",
              "</style>\n",
              "<table border=\"1\" class=\"dataframe\">\n",
              "  <thead>\n",
              "    <tr style=\"text-align: right;\">\n",
              "      <th></th>\n",
              "      <th>infection_rate</th>\n",
              "      <th>infection_rate+1</th>\n",
              "    </tr>\n",
              "    <tr>\n",
              "      <th>date</th>\n",
              "      <th></th>\n",
              "      <th></th>\n",
              "    </tr>\n",
              "  </thead>\n",
              "  <tbody>\n",
              "    <tr>\n",
              "      <th>2021-04-06</th>\n",
              "      <td>156</td>\n",
              "      <td>216.0</td>\n",
              "    </tr>\n",
              "    <tr>\n",
              "      <th>2021-04-07</th>\n",
              "      <td>216</td>\n",
              "      <td>95.0</td>\n",
              "    </tr>\n",
              "    <tr>\n",
              "      <th>2021-04-08</th>\n",
              "      <td>95</td>\n",
              "      <td>266.0</td>\n",
              "    </tr>\n",
              "    <tr>\n",
              "      <th>2021-04-09</th>\n",
              "      <td>266</td>\n",
              "      <td>185.0</td>\n",
              "    </tr>\n",
              "    <tr>\n",
              "      <th>2021-04-10</th>\n",
              "      <td>185</td>\n",
              "      <td>236.0</td>\n",
              "    </tr>\n",
              "    <tr>\n",
              "      <th>2021-04-11</th>\n",
              "      <td>236</td>\n",
              "      <td>137.0</td>\n",
              "    </tr>\n",
              "    <tr>\n",
              "      <th>2021-04-12</th>\n",
              "      <td>137</td>\n",
              "      <td>194.0</td>\n",
              "    </tr>\n",
              "    <tr>\n",
              "      <th>2021-04-13</th>\n",
              "      <td>194</td>\n",
              "      <td>351.0</td>\n",
              "    </tr>\n",
              "    <tr>\n",
              "      <th>2021-04-14</th>\n",
              "      <td>351</td>\n",
              "      <td>409.0</td>\n",
              "    </tr>\n",
              "    <tr>\n",
              "      <th>2021-04-15</th>\n",
              "      <td>409</td>\n",
              "      <td>312.0</td>\n",
              "    </tr>\n",
              "    <tr>\n",
              "      <th>2021-04-16</th>\n",
              "      <td>312</td>\n",
              "      <td>279.0</td>\n",
              "    </tr>\n",
              "    <tr>\n",
              "      <th>2021-04-17</th>\n",
              "      <td>279</td>\n",
              "      <td>346.0</td>\n",
              "    </tr>\n",
              "    <tr>\n",
              "      <th>2021-04-18</th>\n",
              "      <td>346</td>\n",
              "      <td>293.0</td>\n",
              "    </tr>\n",
              "    <tr>\n",
              "      <th>2021-04-19</th>\n",
              "      <td>293</td>\n",
              "      <td>350.0</td>\n",
              "    </tr>\n",
              "    <tr>\n",
              "      <th>2021-04-20</th>\n",
              "      <td>350</td>\n",
              "      <td>365.0</td>\n",
              "    </tr>\n",
              "    <tr>\n",
              "      <th>2021-04-21</th>\n",
              "      <td>365</td>\n",
              "      <td>446.0</td>\n",
              "    </tr>\n",
              "    <tr>\n",
              "      <th>2021-04-22</th>\n",
              "      <td>446</td>\n",
              "      <td>740.0</td>\n",
              "    </tr>\n",
              "    <tr>\n",
              "      <th>2021-04-23</th>\n",
              "      <td>740</td>\n",
              "      <td>1582.0</td>\n",
              "    </tr>\n",
              "    <tr>\n",
              "      <th>2021-04-24</th>\n",
              "      <td>1582</td>\n",
              "      <td>1078.0</td>\n",
              "    </tr>\n",
              "    <tr>\n",
              "      <th>2021-04-25</th>\n",
              "      <td>1078</td>\n",
              "      <td>901.0</td>\n",
              "    </tr>\n",
              "    <tr>\n",
              "      <th>2021-04-26</th>\n",
              "      <td>901</td>\n",
              "      <td>993.0</td>\n",
              "    </tr>\n",
              "    <tr>\n",
              "      <th>2021-04-27</th>\n",
              "      <td>993</td>\n",
              "      <td>830.0</td>\n",
              "    </tr>\n",
              "    <tr>\n",
              "      <th>2021-04-28</th>\n",
              "      <td>830</td>\n",
              "      <td>689.0</td>\n",
              "    </tr>\n",
              "    <tr>\n",
              "      <th>2021-04-29</th>\n",
              "      <td>689</td>\n",
              "      <td>417.0</td>\n",
              "    </tr>\n",
              "    <tr>\n",
              "      <th>2021-04-30</th>\n",
              "      <td>417</td>\n",
              "      <td>NaN</td>\n",
              "    </tr>\n",
              "  </tbody>\n",
              "</table>\n",
              "</div>"
            ],
            "text/plain": [
              "            infection_rate  infection_rate+1\n",
              "date                                        \n",
              "2021-04-06             156             216.0\n",
              "2021-04-07             216              95.0\n",
              "2021-04-08              95             266.0\n",
              "2021-04-09             266             185.0\n",
              "2021-04-10             185             236.0\n",
              "2021-04-11             236             137.0\n",
              "2021-04-12             137             194.0\n",
              "2021-04-13             194             351.0\n",
              "2021-04-14             351             409.0\n",
              "2021-04-15             409             312.0\n",
              "2021-04-16             312             279.0\n",
              "2021-04-17             279             346.0\n",
              "2021-04-18             346             293.0\n",
              "2021-04-19             293             350.0\n",
              "2021-04-20             350             365.0\n",
              "2021-04-21             365             446.0\n",
              "2021-04-22             446             740.0\n",
              "2021-04-23             740            1582.0\n",
              "2021-04-24            1582            1078.0\n",
              "2021-04-25            1078             901.0\n",
              "2021-04-26             901             993.0\n",
              "2021-04-27             993             830.0\n",
              "2021-04-28             830             689.0\n",
              "2021-04-29             689             417.0\n",
              "2021-04-30             417               NaN"
            ]
          },
          "metadata": {
            "tags": []
          },
          "execution_count": 13
        }
      ]
    },
    {
      "cell_type": "code",
      "metadata": {
        "colab": {
          "base_uri": "https://localhost:8080/",
          "height": 336
        },
        "id": "2k4Tv2b6ODmn",
        "outputId": "3959d010-479e-4a38-b363-bde7b72fb05a"
      },
      "source": [
        "df.iloc[0,:].plot(title = 'Bangkok Covid-19 infection rate',figsize=(6,4)) ### df.loc[province,:].plot()"
      ],
      "execution_count": null,
      "outputs": [
        {
          "output_type": "execute_result",
          "data": {
            "text/plain": [
              "<matplotlib.axes._subplots.AxesSubplot at 0x7fdf10fa3790>"
            ]
          },
          "metadata": {
            "tags": []
          },
          "execution_count": 29
        },
        {
          "output_type": "display_data",
          "data": {
            "image/png": "[encoded data removed]",
            "text/plain": [
              "<Figure size 432x288 with 1 Axes>"
            ]
          },
          "metadata": {
            "tags": [],
            "needs_background": "light"
          }
        }
      ]
    },
    {
      "cell_type": "code",
      "metadata": {
        "id": "NEWEDRjuSuUk",
        "colab": {
          "base_uri": "https://localhost:8080/",
          "height": 467
        },
        "outputId": "861e3bfb-0616-4cec-a3ac-73668858f49a"
      },
      "source": [
        "df"
      ],
      "execution_count": null,
      "outputs": [
        {
          "output_type": "execute_result",
          "data": {
            "text/html": [
              "<div>\n",
              "<style scoped>\n",
              "    .dataframe tbody tr th:only-of-type {\n",
              "        vertical-align: middle;\n",
              "    }\n",
              "\n",
              "    .dataframe tbody tr th {\n",
              "        vertical-align: top;\n",
              "    }\n",
              "\n",
              "    .dataframe thead th {\n",
              "        text-align: right;\n",
              "    }\n",
              "</style>\n",
              "<table border=\"1\" class=\"dataframe\">\n",
              "  <thead>\n",
              "    <tr style=\"text-align: right;\">\n",
              "      <th>date</th>\n",
              "      <th>2021-04-06</th>\n",
              "      <th>2021-04-07</th>\n",
              "      <th>2021-04-08</th>\n",
              "      <th>2021-04-09</th>\n",
              "      <th>2021-04-10</th>\n",
              "      <th>2021-04-11</th>\n",
              "      <th>2021-04-12</th>\n",
              "      <th>2021-04-13</th>\n",
              "      <th>2021-04-14</th>\n",
              "      <th>2021-04-15</th>\n",
              "      <th>2021-04-16</th>\n",
              "      <th>2021-04-17</th>\n",
              "      <th>2021-04-18</th>\n",
              "      <th>2021-04-19</th>\n",
              "      <th>2021-04-20</th>\n",
              "      <th>2021-04-21</th>\n",
              "      <th>2021-04-22</th>\n",
              "      <th>2021-04-23</th>\n",
              "      <th>2021-04-24</th>\n",
              "      <th>2021-04-25</th>\n",
              "      <th>2021-04-26</th>\n",
              "      <th>2021-04-27</th>\n",
              "      <th>2021-04-28</th>\n",
              "      <th>2021-04-29</th>\n",
              "      <th>2021-04-30</th>\n",
              "    </tr>\n",
              "    <tr>\n",
              "      <th>จังหวัด</th>\n",
              "      <th></th>\n",
              "      <th></th>\n",
              "      <th></th>\n",
              "      <th></th>\n",
              "      <th></th>\n",
              "      <th></th>\n",
              "      <th></th>\n",
              "      <th></th>\n",
              "      <th></th>\n",
              "      <th></th>\n",
              "      <th></th>\n",
              "      <th></th>\n",
              "      <th></th>\n",
              "      <th></th>\n",
              "      <th></th>\n",
              "      <th></th>\n",
              "      <th></th>\n",
              "      <th></th>\n",
              "      <th></th>\n",
              "      <th></th>\n",
              "      <th></th>\n",
              "      <th></th>\n",
              "      <th></th>\n",
              "      <th></th>\n",
              "      <th></th>\n",
              "    </tr>\n",
              "  </thead>\n",
              "  <tbody>\n",
              "    <tr>\n",
              "      <th>กรุงเทพมหานคร</th>\n",
              "      <td>156</td>\n",
              "      <td>216</td>\n",
              "      <td>95</td>\n",
              "      <td>266</td>\n",
              "      <td>185</td>\n",
              "      <td>236</td>\n",
              "      <td>137</td>\n",
              "      <td>194</td>\n",
              "      <td>351</td>\n",
              "      <td>409</td>\n",
              "      <td>312</td>\n",
              "      <td>279</td>\n",
              "      <td>346</td>\n",
              "      <td>293</td>\n",
              "      <td>350</td>\n",
              "      <td>365</td>\n",
              "      <td>446</td>\n",
              "      <td>740</td>\n",
              "      <td>1582</td>\n",
              "      <td>1078</td>\n",
              "      <td>901</td>\n",
              "      <td>993</td>\n",
              "      <td>830</td>\n",
              "      <td>689</td>\n",
              "      <td>417</td>\n",
              "    </tr>\n",
              "    <tr>\n",
              "      <th>เชียงใหม่</th>\n",
              "      <td>2</td>\n",
              "      <td>2</td>\n",
              "      <td>6</td>\n",
              "      <td>16</td>\n",
              "      <td>168</td>\n",
              "      <td>189</td>\n",
              "      <td>246</td>\n",
              "      <td>251</td>\n",
              "      <td>319</td>\n",
              "      <td>278</td>\n",
              "      <td>272</td>\n",
              "      <td>140</td>\n",
              "      <td>164</td>\n",
              "      <td>197</td>\n",
              "      <td>116</td>\n",
              "      <td>134</td>\n",
              "      <td>99</td>\n",
              "      <td>237</td>\n",
              "      <td>151</td>\n",
              "      <td>163</td>\n",
              "      <td>84</td>\n",
              "      <td>149</td>\n",
              "      <td>161</td>\n",
              "      <td>151</td>\n",
              "      <td>138</td>\n",
              "    </tr>\n",
              "    <tr>\n",
              "      <th>ชลบุรี</th>\n",
              "      <td>18</td>\n",
              "      <td>11</td>\n",
              "      <td>14</td>\n",
              "      <td>46</td>\n",
              "      <td>101</td>\n",
              "      <td>180</td>\n",
              "      <td>92</td>\n",
              "      <td>97</td>\n",
              "      <td>72</td>\n",
              "      <td>98</td>\n",
              "      <td>110</td>\n",
              "      <td>99</td>\n",
              "      <td>229</td>\n",
              "      <td>98</td>\n",
              "      <td>82</td>\n",
              "      <td>80</td>\n",
              "      <td>97</td>\n",
              "      <td>125</td>\n",
              "      <td>119</td>\n",
              "      <td>75</td>\n",
              "      <td>104</td>\n",
              "      <td>93</td>\n",
              "      <td>108</td>\n",
              "      <td>112</td>\n",
              "      <td>131</td>\n",
              "    </tr>\n",
              "    <tr>\n",
              "      <th>ประจวบคีรีขันธ์</th>\n",
              "      <td>0</td>\n",
              "      <td>6</td>\n",
              "      <td>14</td>\n",
              "      <td>30</td>\n",
              "      <td>40</td>\n",
              "      <td>49</td>\n",
              "      <td>52</td>\n",
              "      <td>73</td>\n",
              "      <td>161</td>\n",
              "      <td>98</td>\n",
              "      <td>100</td>\n",
              "      <td>58</td>\n",
              "      <td>66</td>\n",
              "      <td>23</td>\n",
              "      <td>41</td>\n",
              "      <td>69</td>\n",
              "      <td>118</td>\n",
              "      <td>44</td>\n",
              "      <td>96</td>\n",
              "      <td>115</td>\n",
              "      <td>97</td>\n",
              "      <td>93</td>\n",
              "      <td>71</td>\n",
              "      <td>89</td>\n",
              "      <td>66</td>\n",
              "    </tr>\n",
              "    <tr>\n",
              "      <th>นนทบุรี</th>\n",
              "      <td>1</td>\n",
              "      <td>8</td>\n",
              "      <td>18</td>\n",
              "      <td>6</td>\n",
              "      <td>1</td>\n",
              "      <td>19</td>\n",
              "      <td>2</td>\n",
              "      <td>0</td>\n",
              "      <td>9</td>\n",
              "      <td>35</td>\n",
              "      <td>61</td>\n",
              "      <td>349</td>\n",
              "      <td>140</td>\n",
              "      <td>39</td>\n",
              "      <td>60</td>\n",
              "      <td>47</td>\n",
              "      <td>37</td>\n",
              "      <td>29</td>\n",
              "      <td>84</td>\n",
              "      <td>77</td>\n",
              "      <td>110</td>\n",
              "      <td>80</td>\n",
              "      <td>59</td>\n",
              "      <td>28</td>\n",
              "      <td>50</td>\n",
              "    </tr>\n",
              "    <tr>\n",
              "      <th>...</th>\n",
              "      <td>...</td>\n",
              "      <td>...</td>\n",
              "      <td>...</td>\n",
              "      <td>...</td>\n",
              "      <td>...</td>\n",
              "      <td>...</td>\n",
              "      <td>...</td>\n",
              "      <td>...</td>\n",
              "      <td>...</td>\n",
              "      <td>...</td>\n",
              "      <td>...</td>\n",
              "      <td>...</td>\n",
              "      <td>...</td>\n",
              "      <td>...</td>\n",
              "      <td>...</td>\n",
              "      <td>...</td>\n",
              "      <td>...</td>\n",
              "      <td>...</td>\n",
              "      <td>...</td>\n",
              "      <td>...</td>\n",
              "      <td>...</td>\n",
              "      <td>...</td>\n",
              "      <td>...</td>\n",
              "      <td>...</td>\n",
              "      <td>...</td>\n",
              "    </tr>\n",
              "    <tr>\n",
              "      <th>มุกดาหาร</th>\n",
              "      <td>0</td>\n",
              "      <td>0</td>\n",
              "      <td>0</td>\n",
              "      <td>0</td>\n",
              "      <td>1</td>\n",
              "      <td>0</td>\n",
              "      <td>1</td>\n",
              "      <td>0</td>\n",
              "      <td>0</td>\n",
              "      <td>1</td>\n",
              "      <td>1</td>\n",
              "      <td>2</td>\n",
              "      <td>1</td>\n",
              "      <td>0</td>\n",
              "      <td>0</td>\n",
              "      <td>0</td>\n",
              "      <td>0</td>\n",
              "      <td>0</td>\n",
              "      <td>0</td>\n",
              "      <td>0</td>\n",
              "      <td>0</td>\n",
              "      <td>0</td>\n",
              "      <td>0</td>\n",
              "      <td>2</td>\n",
              "      <td>0</td>\n",
              "    </tr>\n",
              "    <tr>\n",
              "      <th>ยะลา</th>\n",
              "      <td>0</td>\n",
              "      <td>0</td>\n",
              "      <td>0</td>\n",
              "      <td>0</td>\n",
              "      <td>0</td>\n",
              "      <td>0</td>\n",
              "      <td>0</td>\n",
              "      <td>0</td>\n",
              "      <td>0</td>\n",
              "      <td>2</td>\n",
              "      <td>0</td>\n",
              "      <td>3</td>\n",
              "      <td>2</td>\n",
              "      <td>0</td>\n",
              "      <td>0</td>\n",
              "      <td>0</td>\n",
              "      <td>2</td>\n",
              "      <td>1</td>\n",
              "      <td>0</td>\n",
              "      <td>2</td>\n",
              "      <td>4</td>\n",
              "      <td>0</td>\n",
              "      <td>0</td>\n",
              "      <td>1</td>\n",
              "      <td>0</td>\n",
              "    </tr>\n",
              "    <tr>\n",
              "      <th>พิจิตร</th>\n",
              "      <td>0</td>\n",
              "      <td>0</td>\n",
              "      <td>0</td>\n",
              "      <td>0</td>\n",
              "      <td>1</td>\n",
              "      <td>0</td>\n",
              "      <td>2</td>\n",
              "      <td>0</td>\n",
              "      <td>0</td>\n",
              "      <td>0</td>\n",
              "      <td>0</td>\n",
              "      <td>3</td>\n",
              "      <td>0</td>\n",
              "      <td>0</td>\n",
              "      <td>0</td>\n",
              "      <td>0</td>\n",
              "      <td>0</td>\n",
              "      <td>4</td>\n",
              "      <td>0</td>\n",
              "      <td>2</td>\n",
              "      <td>2</td>\n",
              "      <td>0</td>\n",
              "      <td>0</td>\n",
              "      <td>1</td>\n",
              "      <td>0</td>\n",
              "    </tr>\n",
              "    <tr>\n",
              "      <th>ชัยนาท</th>\n",
              "      <td>0</td>\n",
              "      <td>0</td>\n",
              "      <td>0</td>\n",
              "      <td>0</td>\n",
              "      <td>0</td>\n",
              "      <td>2</td>\n",
              "      <td>0</td>\n",
              "      <td>0</td>\n",
              "      <td>2</td>\n",
              "      <td>0</td>\n",
              "      <td>0</td>\n",
              "      <td>0</td>\n",
              "      <td>1</td>\n",
              "      <td>0</td>\n",
              "      <td>0</td>\n",
              "      <td>0</td>\n",
              "      <td>0</td>\n",
              "      <td>4</td>\n",
              "      <td>0</td>\n",
              "      <td>0</td>\n",
              "      <td>0</td>\n",
              "      <td>0</td>\n",
              "      <td>0</td>\n",
              "      <td>0</td>\n",
              "      <td>0</td>\n",
              "    </tr>\n",
              "    <tr>\n",
              "      <th>สตูล</th>\n",
              "      <td>0</td>\n",
              "      <td>0</td>\n",
              "      <td>0</td>\n",
              "      <td>0</td>\n",
              "      <td>0</td>\n",
              "      <td>0</td>\n",
              "      <td>0</td>\n",
              "      <td>0</td>\n",
              "      <td>0</td>\n",
              "      <td>0</td>\n",
              "      <td>1</td>\n",
              "      <td>0</td>\n",
              "      <td>1</td>\n",
              "      <td>0</td>\n",
              "      <td>1</td>\n",
              "      <td>1</td>\n",
              "      <td>0</td>\n",
              "      <td>2</td>\n",
              "      <td>0</td>\n",
              "      <td>2</td>\n",
              "      <td>1</td>\n",
              "      <td>0</td>\n",
              "      <td>0</td>\n",
              "      <td>0</td>\n",
              "      <td>0</td>\n",
              "    </tr>\n",
              "  </tbody>\n",
              "</table>\n",
              "<p>77 rows × 25 columns</p>\n",
              "</div>"
            ],
            "text/plain": [
              "date             2021-04-06  2021-04-07  ...  2021-04-29  2021-04-30\n",
              "จังหวัด                                  ...                        \n",
              "กรุงเทพมหานคร           156         216  ...         689         417\n",
              "เชียงใหม่                 2           2  ...         151         138\n",
              "ชลบุรี                   18          11  ...         112         131\n",
              "ประจวบคีรีขันธ์           0           6  ...          89          66\n",
              "นนทบุรี                   1           8  ...          28          50\n",
              "...                     ...         ...  ...         ...         ...\n",
              "มุกดาหาร                  0           0  ...           2           0\n",
              "ยะลา                      0           0  ...           1           0\n",
              "พิจิตร                    0           0  ...           1           0\n",
              "ชัยนาท                    0           0  ...           0           0\n",
              "สตูล                      0           0  ...           0           0\n",
              "\n",
              "[77 rows x 25 columns]"
            ]
          },
          "metadata": {
            "tags": []
          },
          "execution_count": 15
        }
      ]
    },
    {
      "cell_type": "code",
      "metadata": {
        "id": "Vn1V0DlDSJYh",
        "colab": {
          "base_uri": "https://localhost:8080/"
        },
        "outputId": "f6569ae5-f172-4308-ccc5-6e19f85acacc"
      },
      "source": [
        "### Find d from p, d, q ###\n",
        "from statsmodels.tsa.stattools import adfuller\n",
        "\n",
        "adf_res = adfuller(df.iloc[0,:], autolag = 'AIC')"
      ],
      "execution_count": null,
      "outputs": [
        {
          "output_type": "stream",
          "text": [
            "/usr/local/lib/python3.7/dist-packages/statsmodels/tools/_testing.py:19: FutureWarning: pandas.util.testing is deprecated. Use the functions in the public API at pandas.testing instead.\n",
            "  import pandas.util.testing as tm\n"
          ],
          "name": "stderr"
        }
      ]
    },
    {
      "cell_type": "code",
      "metadata": {
        "colab": {
          "base_uri": "https://localhost:8080/"
        },
        "id": "jnI_SHs3SPPF",
        "outputId": "68b96d3f-42f2-4378-960e-41ea5c28fc59"
      },
      "source": [
        "print(adf_res)\n",
        "print('p-Values:' + str(adf_res[1]))\n",
        "### This is non-stationary data ###"
      ],
      "execution_count": null,
      "outputs": [
        {
          "output_type": "stream",
          "text": [
            "(3.3771919476501497, 1.0, 9, 15, {'1%': -3.9644434814814815, '5%': -3.0849081481481484, '10%': -2.6818144444444445}, 201.58993329154055)\n",
            "p-Values:1.0\n"
          ],
          "name": "stdout"
        }
      ]
    },
    {
      "cell_type": "code",
      "metadata": {
        "colab": {
          "base_uri": "https://localhost:8080/",
          "height": 796
        },
        "id": "uk_eIWRESwPo",
        "outputId": "a9ce0dce-f380-403e-953a-16837952b6bc"
      },
      "source": [
        "import matplotlib.pyplot as plt\n",
        "\n",
        "\n",
        "df_d = pd.DataFrame()\n",
        "df_d['Close_diff'] = df.iloc[0,:].diff(1)\n",
        "df_d['Close_diff'].plot(color = 'green', figsize = (15,4))\n",
        "#plt.legend(['Bangkok (diff)'])\n",
        "#plt.title('Covid-19 infection rate (diff)')\n",
        "d_new = df.iloc[0,:]\n",
        "num = 0\n",
        "while True:\n",
        "  if num != 0:\n",
        "    d_new = []\n",
        "    d_new = d_old.diff(1)\n",
        "  adf_res = adfuller(d_new.dropna(), autolag = 'AIC')\n",
        "  if adf_res[1] < 0.05:\n",
        "    print(d_new)\n",
        "    df_d['Close_diff'] = d_new\n",
        "    break\n",
        "  else:\n",
        "    num += 1\n",
        "    d_old = d_new\n",
        "  #print(d_new)\n",
        "\n",
        "#adf_res = adfuller(df_d['Close_diff'].dropna(), autolag = 'AIC')\n",
        "print('d:' + str(num))\n",
        "print('p-Values:' + str(adf_res[1]))\n",
        "### p < 0.05 stationary now -> d = 2 ###"
      ],
      "execution_count": null,
      "outputs": [
        {
          "output_type": "stream",
          "text": [
            "date\n",
            "2021-04-06       NaN\n",
            "2021-04-07       NaN\n",
            "2021-04-08    -181.0\n",
            "2021-04-09     292.0\n",
            "2021-04-10    -252.0\n",
            "2021-04-11     132.0\n",
            "2021-04-12    -150.0\n",
            "2021-04-13     156.0\n",
            "2021-04-14     100.0\n",
            "2021-04-15     -99.0\n",
            "2021-04-16    -155.0\n",
            "2021-04-17      64.0\n",
            "2021-04-18     100.0\n",
            "2021-04-19    -120.0\n",
            "2021-04-20     110.0\n",
            "2021-04-21     -42.0\n",
            "2021-04-22      66.0\n",
            "2021-04-23     213.0\n",
            "2021-04-24     548.0\n",
            "2021-04-25   -1346.0\n",
            "2021-04-26     327.0\n",
            "2021-04-27     269.0\n",
            "2021-04-28    -255.0\n",
            "2021-04-29      22.0\n",
            "2021-04-30    -131.0\n",
            "Name: กรุงเทพมหานคร, dtype: float64\n",
            "d:2\n",
            "p-Values:0.015371657937841105\n"
          ],
          "name": "stdout"
        },
        {
          "output_type": "display_data",
          "data": {
            "image/png": "[encoded data removed]",
            "text/plain": [
              "<Figure size 1080x288 with 1 Axes>"
            ]
          },
          "metadata": {
            "tags": [],
            "needs_background": "light"
          }
        }
      ]
    },
    {
      "cell_type": "code",
      "metadata": {
        "colab": {
          "base_uri": "https://localhost:8080/",
          "height": 855
        },
        "id": "HtL9eF1eZeEk",
        "outputId": "496bd32c-75a9-4458-e573-bd9ca84eb09f"
      },
      "source": [
        "df_d"
      ],
      "execution_count": null,
      "outputs": [
        {
          "output_type": "execute_result",
          "data": {
            "text/html": [
              "<div>\n",
              "<style scoped>\n",
              "    .dataframe tbody tr th:only-of-type {\n",
              "        vertical-align: middle;\n",
              "    }\n",
              "\n",
              "    .dataframe tbody tr th {\n",
              "        vertical-align: top;\n",
              "    }\n",
              "\n",
              "    .dataframe thead th {\n",
              "        text-align: right;\n",
              "    }\n",
              "</style>\n",
              "<table border=\"1\" class=\"dataframe\">\n",
              "  <thead>\n",
              "    <tr style=\"text-align: right;\">\n",
              "      <th></th>\n",
              "      <th>Close_diff</th>\n",
              "    </tr>\n",
              "    <tr>\n",
              "      <th>date</th>\n",
              "      <th></th>\n",
              "    </tr>\n",
              "  </thead>\n",
              "  <tbody>\n",
              "    <tr>\n",
              "      <th>2021-04-06</th>\n",
              "      <td>NaN</td>\n",
              "    </tr>\n",
              "    <tr>\n",
              "      <th>2021-04-07</th>\n",
              "      <td>NaN</td>\n",
              "    </tr>\n",
              "    <tr>\n",
              "      <th>2021-04-08</th>\n",
              "      <td>-181.0</td>\n",
              "    </tr>\n",
              "    <tr>\n",
              "      <th>2021-04-09</th>\n",
              "      <td>292.0</td>\n",
              "    </tr>\n",
              "    <tr>\n",
              "      <th>2021-04-10</th>\n",
              "      <td>-252.0</td>\n",
              "    </tr>\n",
              "    <tr>\n",
              "      <th>2021-04-11</th>\n",
              "      <td>132.0</td>\n",
              "    </tr>\n",
              "    <tr>\n",
              "      <th>2021-04-12</th>\n",
              "      <td>-150.0</td>\n",
              "    </tr>\n",
              "    <tr>\n",
              "      <th>2021-04-13</th>\n",
              "      <td>156.0</td>\n",
              "    </tr>\n",
              "    <tr>\n",
              "      <th>2021-04-14</th>\n",
              "      <td>100.0</td>\n",
              "    </tr>\n",
              "    <tr>\n",
              "      <th>2021-04-15</th>\n",
              "      <td>-99.0</td>\n",
              "    </tr>\n",
              "    <tr>\n",
              "      <th>2021-04-16</th>\n",
              "      <td>-155.0</td>\n",
              "    </tr>\n",
              "    <tr>\n",
              "      <th>2021-04-17</th>\n",
              "      <td>64.0</td>\n",
              "    </tr>\n",
              "    <tr>\n",
              "      <th>2021-04-18</th>\n",
              "      <td>100.0</td>\n",
              "    </tr>\n",
              "    <tr>\n",
              "      <th>2021-04-19</th>\n",
              "      <td>-120.0</td>\n",
              "    </tr>\n",
              "    <tr>\n",
              "      <th>2021-04-20</th>\n",
              "      <td>110.0</td>\n",
              "    </tr>\n",
              "    <tr>\n",
              "      <th>2021-04-21</th>\n",
              "      <td>-42.0</td>\n",
              "    </tr>\n",
              "    <tr>\n",
              "      <th>2021-04-22</th>\n",
              "      <td>66.0</td>\n",
              "    </tr>\n",
              "    <tr>\n",
              "      <th>2021-04-23</th>\n",
              "      <td>213.0</td>\n",
              "    </tr>\n",
              "    <tr>\n",
              "      <th>2021-04-24</th>\n",
              "      <td>548.0</td>\n",
              "    </tr>\n",
              "    <tr>\n",
              "      <th>2021-04-25</th>\n",
              "      <td>-1346.0</td>\n",
              "    </tr>\n",
              "    <tr>\n",
              "      <th>2021-04-26</th>\n",
              "      <td>327.0</td>\n",
              "    </tr>\n",
              "    <tr>\n",
              "      <th>2021-04-27</th>\n",
              "      <td>269.0</td>\n",
              "    </tr>\n",
              "    <tr>\n",
              "      <th>2021-04-28</th>\n",
              "      <td>-255.0</td>\n",
              "    </tr>\n",
              "    <tr>\n",
              "      <th>2021-04-29</th>\n",
              "      <td>22.0</td>\n",
              "    </tr>\n",
              "    <tr>\n",
              "      <th>2021-04-30</th>\n",
              "      <td>-131.0</td>\n",
              "    </tr>\n",
              "  </tbody>\n",
              "</table>\n",
              "</div>"
            ],
            "text/plain": [
              "            Close_diff\n",
              "date                  \n",
              "2021-04-06         NaN\n",
              "2021-04-07         NaN\n",
              "2021-04-08      -181.0\n",
              "2021-04-09       292.0\n",
              "2021-04-10      -252.0\n",
              "2021-04-11       132.0\n",
              "2021-04-12      -150.0\n",
              "2021-04-13       156.0\n",
              "2021-04-14       100.0\n",
              "2021-04-15       -99.0\n",
              "2021-04-16      -155.0\n",
              "2021-04-17        64.0\n",
              "2021-04-18       100.0\n",
              "2021-04-19      -120.0\n",
              "2021-04-20       110.0\n",
              "2021-04-21       -42.0\n",
              "2021-04-22        66.0\n",
              "2021-04-23       213.0\n",
              "2021-04-24       548.0\n",
              "2021-04-25     -1346.0\n",
              "2021-04-26       327.0\n",
              "2021-04-27       269.0\n",
              "2021-04-28      -255.0\n",
              "2021-04-29        22.0\n",
              "2021-04-30      -131.0"
            ]
          },
          "metadata": {
            "tags": []
          },
          "execution_count": 19
        }
      ]
    },
    {
      "cell_type": "code",
      "metadata": {
        "colab": {
          "base_uri": "https://localhost:8080/",
          "height": 283
        },
        "id": "tbIBe0_pfykV",
        "outputId": "78be6a5b-cc2d-4f23-8f4d-838045e78340"
      },
      "source": [
        "from pandas.plotting import autocorrelation_plot\n",
        "autocorrelation_plot(df.iloc[0,:])\n",
        "plt.show()"
      ],
      "execution_count": null,
      "outputs": [
        {
          "output_type": "display_data",
          "data": {
            "image/png": "[encoded data removed]",
            "text/plain": [
              "<Figure size 432x288 with 1 Axes>"
            ]
          },
          "metadata": {
            "tags": [],
            "needs_background": "light"
          }
        }
      ]
    },
    {
      "cell_type": "code",
      "metadata": {
        "id": "K6wzWS-1d2NI"
      },
      "source": [
        ""
      ],
      "execution_count": null,
      "outputs": []
    },
    {
      "cell_type": "code",
      "metadata": {
        "id": "dtRyNuveczAc"
      },
      "source": [
        "from statsmodels.tsa.arima_model import ARIMA\n",
        "#model=ARIMA(df_d['Close_diff'].dropna(),order=(1,num,0))\n",
        "#model_fit=model.fit()"
      ],
      "execution_count": null,
      "outputs": []
    },
    {
      "cell_type": "code",
      "metadata": {
        "id": "vcI_Urm6g-6b"
      },
      "source": [
        "#model_fit.summary()"
      ],
      "execution_count": null,
      "outputs": []
    },
    {
      "cell_type": "code",
      "metadata": {
        "id": "6h4a1TR5hdRh"
      },
      "source": [
        "#df_predict = pd.DataFrame()\n",
        "#df_predict['Ground_truth'] = df.iloc[0,:]"
      ],
      "execution_count": null,
      "outputs": []
    },
    {
      "cell_type": "markdown",
      "metadata": {
        "id": "W77TfgLGhBT4"
      },
      "source": [
        "df_predict['forecast']=model_fit.predict(start=ๅ,end=15,dynamic=True)\n",
        "df_predict[['Ground_truth','forecast']].plot(figsize=(12,8))"
      ]
    },
    {
      "cell_type": "code",
      "metadata": {
        "colab": {
          "base_uri": "https://localhost:8080/"
        },
        "id": "Tkqvq0N8h1uI",
        "outputId": "5e02a68f-44c5-43cd-b7ef-399a6dc79340"
      },
      "source": [
        "import statsmodels.api as sm\n",
        "model=sm.tsa.statespace.SARIMAX(df.iloc[0,:].cumsum(),order=(1, 0, 0),seasonal_order=(1,0,0,7))\n",
        "results=model.fit()"
      ],
      "execution_count": null,
      "outputs": [
        {
          "output_type": "stream",
          "text": [
            "/usr/local/lib/python3.7/dist-packages/statsmodels/tsa/base/tsa_model.py:165: ValueWarning: No frequency information was provided, so inferred frequency D will be used.\n",
            "  % freq, ValueWarning)\n",
            "/usr/local/lib/python3.7/dist-packages/statsmodels/tsa/statespace/sarimax.py:949: UserWarning: Non-stationary starting autoregressive parameters found. Using zeros as starting parameters.\n",
            "  warn('Non-stationary starting autoregressive parameters'\n",
            "/usr/local/lib/python3.7/dist-packages/statsmodels/tsa/statespace/sarimax.py:981: UserWarning: Non-stationary starting seasonal autoregressive Using zeros as starting parameters.\n",
            "  warn('Non-stationary starting seasonal autoregressive'\n"
          ],
          "name": "stderr"
        }
      ]
    },
    {
      "cell_type": "code",
      "metadata": {
        "colab": {
          "base_uri": "https://localhost:8080/",
          "height": 320
        },
        "id": "pw3-wNMcIf0Z",
        "outputId": "863c00fd-3c8e-4884-b676-f8eb66225ba5"
      },
      "source": [
        "df.iloc[0,:].cumsum().plot()"
      ],
      "execution_count": null,
      "outputs": [
        {
          "output_type": "execute_result",
          "data": {
            "text/plain": [
              "<matplotlib.axes._subplots.AxesSubplot at 0x7f0f64584910>"
            ]
          },
          "metadata": {
            "tags": []
          },
          "execution_count": 48
        },
        {
          "output_type": "display_data",
          "data": {
            "image/png": "[encoded data removed]",
            "text/plain": [
              "<Figure size 432x288 with 1 Axes>"
            ]
          },
          "metadata": {
            "tags": [],
            "needs_background": "light"
          }
        }
      ]
    },
    {
      "cell_type": "code",
      "metadata": {
        "colab": {
          "base_uri": "https://localhost:8080/",
          "height": 855
        },
        "id": "ReVWEtt2tlQg",
        "outputId": "87afcb19-04e0-4b4d-f071-73d80ac266b1"
      },
      "source": [
        "df_predict = pd.DataFrame()\n",
        "df_predict['Ground_truth'] = df.iloc[0,:].cumsum()\n",
        "df_predict"
      ],
      "execution_count": null,
      "outputs": [
        {
          "output_type": "execute_result",
          "data": {
            "text/html": [
              "<div>\n",
              "<style scoped>\n",
              "    .dataframe tbody tr th:only-of-type {\n",
              "        vertical-align: middle;\n",
              "    }\n",
              "\n",
              "    .dataframe tbody tr th {\n",
              "        vertical-align: top;\n",
              "    }\n",
              "\n",
              "    .dataframe thead th {\n",
              "        text-align: right;\n",
              "    }\n",
              "</style>\n",
              "<table border=\"1\" class=\"dataframe\">\n",
              "  <thead>\n",
              "    <tr style=\"text-align: right;\">\n",
              "      <th></th>\n",
              "      <th>Ground_truth</th>\n",
              "    </tr>\n",
              "    <tr>\n",
              "      <th>date</th>\n",
              "      <th></th>\n",
              "    </tr>\n",
              "  </thead>\n",
              "  <tbody>\n",
              "    <tr>\n",
              "      <th>2021-04-06</th>\n",
              "      <td>156</td>\n",
              "    </tr>\n",
              "    <tr>\n",
              "      <th>2021-04-07</th>\n",
              "      <td>372</td>\n",
              "    </tr>\n",
              "    <tr>\n",
              "      <th>2021-04-08</th>\n",
              "      <td>467</td>\n",
              "    </tr>\n",
              "    <tr>\n",
              "      <th>2021-04-09</th>\n",
              "      <td>733</td>\n",
              "    </tr>\n",
              "    <tr>\n",
              "      <th>2021-04-10</th>\n",
              "      <td>918</td>\n",
              "    </tr>\n",
              "    <tr>\n",
              "      <th>2021-04-11</th>\n",
              "      <td>1154</td>\n",
              "    </tr>\n",
              "    <tr>\n",
              "      <th>2021-04-12</th>\n",
              "      <td>1291</td>\n",
              "    </tr>\n",
              "    <tr>\n",
              "      <th>2021-04-13</th>\n",
              "      <td>1485</td>\n",
              "    </tr>\n",
              "    <tr>\n",
              "      <th>2021-04-14</th>\n",
              "      <td>1836</td>\n",
              "    </tr>\n",
              "    <tr>\n",
              "      <th>2021-04-15</th>\n",
              "      <td>2245</td>\n",
              "    </tr>\n",
              "    <tr>\n",
              "      <th>2021-04-16</th>\n",
              "      <td>2557</td>\n",
              "    </tr>\n",
              "    <tr>\n",
              "      <th>2021-04-17</th>\n",
              "      <td>2836</td>\n",
              "    </tr>\n",
              "    <tr>\n",
              "      <th>2021-04-18</th>\n",
              "      <td>3182</td>\n",
              "    </tr>\n",
              "    <tr>\n",
              "      <th>2021-04-19</th>\n",
              "      <td>3475</td>\n",
              "    </tr>\n",
              "    <tr>\n",
              "      <th>2021-04-20</th>\n",
              "      <td>3825</td>\n",
              "    </tr>\n",
              "    <tr>\n",
              "      <th>2021-04-21</th>\n",
              "      <td>4190</td>\n",
              "    </tr>\n",
              "    <tr>\n",
              "      <th>2021-04-22</th>\n",
              "      <td>4636</td>\n",
              "    </tr>\n",
              "    <tr>\n",
              "      <th>2021-04-23</th>\n",
              "      <td>5376</td>\n",
              "    </tr>\n",
              "    <tr>\n",
              "      <th>2021-04-24</th>\n",
              "      <td>6958</td>\n",
              "    </tr>\n",
              "    <tr>\n",
              "      <th>2021-04-25</th>\n",
              "      <td>8036</td>\n",
              "    </tr>\n",
              "    <tr>\n",
              "      <th>2021-04-26</th>\n",
              "      <td>8937</td>\n",
              "    </tr>\n",
              "    <tr>\n",
              "      <th>2021-04-27</th>\n",
              "      <td>9930</td>\n",
              "    </tr>\n",
              "    <tr>\n",
              "      <th>2021-04-28</th>\n",
              "      <td>10760</td>\n",
              "    </tr>\n",
              "    <tr>\n",
              "      <th>2021-04-29</th>\n",
              "      <td>11449</td>\n",
              "    </tr>\n",
              "    <tr>\n",
              "      <th>2021-04-30</th>\n",
              "      <td>11866</td>\n",
              "    </tr>\n",
              "  </tbody>\n",
              "</table>\n",
              "</div>"
            ],
            "text/plain": [
              "            Ground_truth\n",
              "date                    \n",
              "2021-04-06           156\n",
              "2021-04-07           372\n",
              "2021-04-08           467\n",
              "2021-04-09           733\n",
              "2021-04-10           918\n",
              "2021-04-11          1154\n",
              "2021-04-12          1291\n",
              "2021-04-13          1485\n",
              "2021-04-14          1836\n",
              "2021-04-15          2245\n",
              "2021-04-16          2557\n",
              "2021-04-17          2836\n",
              "2021-04-18          3182\n",
              "2021-04-19          3475\n",
              "2021-04-20          3825\n",
              "2021-04-21          4190\n",
              "2021-04-22          4636\n",
              "2021-04-23          5376\n",
              "2021-04-24          6958\n",
              "2021-04-25          8036\n",
              "2021-04-26          8937\n",
              "2021-04-27          9930\n",
              "2021-04-28         10760\n",
              "2021-04-29         11449\n",
              "2021-04-30         11866"
            ]
          },
          "metadata": {
            "tags": []
          },
          "execution_count": 49
        }
      ]
    },
    {
      "cell_type": "code",
      "metadata": {
        "id": "2RH5cRo_uEIy"
      },
      "source": [
        "from pandas.tseries.offsets import DateOffset\n",
        "future_dates=[df_predict.index[-1]+ DateOffset(days=x)for x in range(0,8)]"
      ],
      "execution_count": null,
      "outputs": []
    },
    {
      "cell_type": "code",
      "metadata": {
        "id": "Xz-YkVHpvSRt"
      },
      "source": [
        "future_datest_df=pd.DataFrame(index=future_dates[1:],columns=df_predict.columns)"
      ],
      "execution_count": null,
      "outputs": []
    },
    {
      "cell_type": "code",
      "metadata": {
        "colab": {
          "base_uri": "https://localhost:8080/",
          "height": 266
        },
        "id": "jllCLbRd5jl3",
        "outputId": "38f0733d-6418-4936-856b-6e3284e78d88"
      },
      "source": [
        "future_datest_df"
      ],
      "execution_count": null,
      "outputs": [
        {
          "output_type": "execute_result",
          "data": {
            "text/html": [
              "<div>\n",
              "<style scoped>\n",
              "    .dataframe tbody tr th:only-of-type {\n",
              "        vertical-align: middle;\n",
              "    }\n",
              "\n",
              "    .dataframe tbody tr th {\n",
              "        vertical-align: top;\n",
              "    }\n",
              "\n",
              "    .dataframe thead th {\n",
              "        text-align: right;\n",
              "    }\n",
              "</style>\n",
              "<table border=\"1\" class=\"dataframe\">\n",
              "  <thead>\n",
              "    <tr style=\"text-align: right;\">\n",
              "      <th></th>\n",
              "      <th>Ground_truth</th>\n",
              "    </tr>\n",
              "  </thead>\n",
              "  <tbody>\n",
              "    <tr>\n",
              "      <th>2021-05-01</th>\n",
              "      <td>NaN</td>\n",
              "    </tr>\n",
              "    <tr>\n",
              "      <th>2021-05-02</th>\n",
              "      <td>NaN</td>\n",
              "    </tr>\n",
              "    <tr>\n",
              "      <th>2021-05-03</th>\n",
              "      <td>NaN</td>\n",
              "    </tr>\n",
              "    <tr>\n",
              "      <th>2021-05-04</th>\n",
              "      <td>NaN</td>\n",
              "    </tr>\n",
              "    <tr>\n",
              "      <th>2021-05-05</th>\n",
              "      <td>NaN</td>\n",
              "    </tr>\n",
              "    <tr>\n",
              "      <th>2021-05-06</th>\n",
              "      <td>NaN</td>\n",
              "    </tr>\n",
              "    <tr>\n",
              "      <th>2021-05-07</th>\n",
              "      <td>NaN</td>\n",
              "    </tr>\n",
              "  </tbody>\n",
              "</table>\n",
              "</div>"
            ],
            "text/plain": [
              "           Ground_truth\n",
              "2021-05-01          NaN\n",
              "2021-05-02          NaN\n",
              "2021-05-03          NaN\n",
              "2021-05-04          NaN\n",
              "2021-05-05          NaN\n",
              "2021-05-06          NaN\n",
              "2021-05-07          NaN"
            ]
          },
          "metadata": {
            "tags": []
          },
          "execution_count": 52
        }
      ]
    },
    {
      "cell_type": "code",
      "metadata": {
        "id": "eUKDkRHzvdqA"
      },
      "source": [
        "future_df=pd.concat([df_predict,future_datest_df])"
      ],
      "execution_count": null,
      "outputs": []
    },
    {
      "cell_type": "code",
      "metadata": {
        "colab": {
          "base_uri": "https://localhost:8080/",
          "height": 317
        },
        "id": "lK3niT5fvhVm",
        "outputId": "3272a3fc-ec74-45a2-d29d-a64fabf37eaa"
      },
      "source": [
        "future_df.plot()"
      ],
      "execution_count": null,
      "outputs": [
        {
          "output_type": "execute_result",
          "data": {
            "text/plain": [
              "<matplotlib.axes._subplots.AxesSubplot at 0x7f0f6442c750>"
            ]
          },
          "metadata": {
            "tags": []
          },
          "execution_count": 54
        },
        {
          "output_type": "display_data",
          "data": {
            "image/png": "[encoded data removed]",
            "text/plain": [
              "<Figure size 432x288 with 1 Axes>"
            ]
          },
          "metadata": {
            "tags": [],
            "needs_background": "light"
          }
        }
      ]
    },
    {
      "cell_type": "code",
      "metadata": {
        "colab": {
          "base_uri": "https://localhost:8080/",
          "height": 551
        },
        "id": "_Amkqq4Jkj95",
        "outputId": "b1f11a5e-2465-434f-c3d0-116b16a8d52e"
      },
      "source": [
        "import numpy as np\n",
        "future_df['forecast']=results.predict(start=24,end=len(df.columns)+7,dynamic=True)\n",
        "#future_df['forecast']=results.predict(start=14,end=20,dynamic=True)\n",
        "future_df['forecast']=results.fittedvalues\n",
        "future_df.iloc[len(df.columns)-1,1] = future_df.iloc[len(df.columns)-1,0]\n",
        "future_df = np.round(future_df)\n",
        "future_df[['Ground_truth','forecast']].plot(figsize=(12,8))\n",
        "plt.ylabel('Infected people')\n",
        "plt.title('Covid-19 Infected rate per day (Bangkok)')"
      ],
      "execution_count": null,
      "outputs": [
        {
          "output_type": "execute_result",
          "data": {
            "text/plain": [
              "Text(0.5, 1.0, 'Covid-19 Infected rate per day (Bangkok)')"
            ]
          },
          "metadata": {
            "tags": []
          },
          "execution_count": 63
        },
        {
          "output_type": "display_data",
          "data": {
            "image/png": "[encoded data removed]",
            "text/plain": [
              "<Figure size 864x576 with 1 Axes>"
            ]
          },
          "metadata": {
            "tags": [],
            "needs_background": "light"
          }
        }
      ]
    },
    {
      "cell_type": "code",
      "metadata": {
        "colab": {
          "base_uri": "https://localhost:8080/",
          "height": 917
        },
        "id": "1vMvM30a6wa6",
        "outputId": "e9a89c17-8261-4e4a-9b4c-dd7ae3868233"
      },
      "source": [
        "future_df"
      ],
      "execution_count": null,
      "outputs": [
        {
          "output_type": "execute_result",
          "data": {
            "text/html": [
              "<div>\n",
              "<style scoped>\n",
              "    .dataframe tbody tr th:only-of-type {\n",
              "        vertical-align: middle;\n",
              "    }\n",
              "\n",
              "    .dataframe tbody tr th {\n",
              "        vertical-align: top;\n",
              "    }\n",
              "\n",
              "    .dataframe thead th {\n",
              "        text-align: right;\n",
              "    }\n",
              "</style>\n",
              "<table border=\"1\" class=\"dataframe\">\n",
              "  <thead>\n",
              "    <tr style=\"text-align: right;\">\n",
              "      <th></th>\n",
              "      <th>Ground_truth</th>\n",
              "      <th>forecast</th>\n",
              "    </tr>\n",
              "  </thead>\n",
              "  <tbody>\n",
              "    <tr>\n",
              "      <th>2021-04-06</th>\n",
              "      <td>156</td>\n",
              "      <td>0.0</td>\n",
              "    </tr>\n",
              "    <tr>\n",
              "      <th>2021-04-07</th>\n",
              "      <td>216</td>\n",
              "      <td>155.0</td>\n",
              "    </tr>\n",
              "    <tr>\n",
              "      <th>2021-04-08</th>\n",
              "      <td>95</td>\n",
              "      <td>215.0</td>\n",
              "    </tr>\n",
              "    <tr>\n",
              "      <th>2021-04-09</th>\n",
              "      <td>266</td>\n",
              "      <td>96.0</td>\n",
              "    </tr>\n",
              "    <tr>\n",
              "      <th>2021-04-10</th>\n",
              "      <td>185</td>\n",
              "      <td>264.0</td>\n",
              "    </tr>\n",
              "    <tr>\n",
              "      <th>2021-04-11</th>\n",
              "      <td>236</td>\n",
              "      <td>186.0</td>\n",
              "    </tr>\n",
              "    <tr>\n",
              "      <th>2021-04-12</th>\n",
              "      <td>137</td>\n",
              "      <td>235.0</td>\n",
              "    </tr>\n",
              "    <tr>\n",
              "      <th>2021-04-13</th>\n",
              "      <td>194</td>\n",
              "      <td>218.0</td>\n",
              "    </tr>\n",
              "    <tr>\n",
              "      <th>2021-04-14</th>\n",
              "      <td>351</td>\n",
              "      <td>253.0</td>\n",
              "    </tr>\n",
              "    <tr>\n",
              "      <th>2021-04-15</th>\n",
              "      <td>409</td>\n",
              "      <td>222.0</td>\n",
              "    </tr>\n",
              "    <tr>\n",
              "      <th>2021-04-16</th>\n",
              "      <td>312</td>\n",
              "      <td>557.0</td>\n",
              "    </tr>\n",
              "    <tr>\n",
              "      <th>2021-04-17</th>\n",
              "      <td>279</td>\n",
              "      <td>262.0</td>\n",
              "    </tr>\n",
              "    <tr>\n",
              "      <th>2021-04-18</th>\n",
              "      <td>346</td>\n",
              "      <td>324.0</td>\n",
              "    </tr>\n",
              "    <tr>\n",
              "      <th>2021-04-19</th>\n",
              "      <td>293</td>\n",
              "      <td>247.0</td>\n",
              "    </tr>\n",
              "    <tr>\n",
              "      <th>2021-04-20</th>\n",
              "      <td>350</td>\n",
              "      <td>347.0</td>\n",
              "    </tr>\n",
              "    <tr>\n",
              "      <th>2021-04-21</th>\n",
              "      <td>365</td>\n",
              "      <td>490.0</td>\n",
              "    </tr>\n",
              "    <tr>\n",
              "      <th>2021-04-22</th>\n",
              "      <td>446</td>\n",
              "      <td>406.0</td>\n",
              "    </tr>\n",
              "    <tr>\n",
              "      <th>2021-04-23</th>\n",
              "      <td>740</td>\n",
              "      <td>389.0</td>\n",
              "    </tr>\n",
              "    <tr>\n",
              "      <th>2021-04-24</th>\n",
              "      <td>1582</td>\n",
              "      <td>660.0</td>\n",
              "    </tr>\n",
              "    <tr>\n",
              "      <th>2021-04-25</th>\n",
              "      <td>1078</td>\n",
              "      <td>1548.0</td>\n",
              "    </tr>\n",
              "    <tr>\n",
              "      <th>2021-04-26</th>\n",
              "      <td>901</td>\n",
              "      <td>1080.0</td>\n",
              "    </tr>\n",
              "    <tr>\n",
              "      <th>2021-04-27</th>\n",
              "      <td>NaN</td>\n",
              "      <td>NaN</td>\n",
              "    </tr>\n",
              "    <tr>\n",
              "      <th>2021-04-28</th>\n",
              "      <td>NaN</td>\n",
              "      <td>NaN</td>\n",
              "    </tr>\n",
              "    <tr>\n",
              "      <th>2021-04-29</th>\n",
              "      <td>NaN</td>\n",
              "      <td>NaN</td>\n",
              "    </tr>\n",
              "    <tr>\n",
              "      <th>2021-04-30</th>\n",
              "      <td>NaN</td>\n",
              "      <td>NaN</td>\n",
              "    </tr>\n",
              "    <tr>\n",
              "      <th>2021-05-01</th>\n",
              "      <td>NaN</td>\n",
              "      <td>NaN</td>\n",
              "    </tr>\n",
              "    <tr>\n",
              "      <th>2021-05-02</th>\n",
              "      <td>NaN</td>\n",
              "      <td>NaN</td>\n",
              "    </tr>\n",
              "    <tr>\n",
              "      <th>2021-05-03</th>\n",
              "      <td>NaN</td>\n",
              "      <td>NaN</td>\n",
              "    </tr>\n",
              "  </tbody>\n",
              "</table>\n",
              "</div>"
            ],
            "text/plain": [
              "           Ground_truth  forecast\n",
              "2021-04-06          156       0.0\n",
              "2021-04-07          216     155.0\n",
              "2021-04-08           95     215.0\n",
              "2021-04-09          266      96.0\n",
              "2021-04-10          185     264.0\n",
              "2021-04-11          236     186.0\n",
              "2021-04-12          137     235.0\n",
              "2021-04-13          194     218.0\n",
              "2021-04-14          351     253.0\n",
              "2021-04-15          409     222.0\n",
              "2021-04-16          312     557.0\n",
              "2021-04-17          279     262.0\n",
              "2021-04-18          346     324.0\n",
              "2021-04-19          293     247.0\n",
              "2021-04-20          350     347.0\n",
              "2021-04-21          365     490.0\n",
              "2021-04-22          446     406.0\n",
              "2021-04-23          740     389.0\n",
              "2021-04-24         1582     660.0\n",
              "2021-04-25         1078    1548.0\n",
              "2021-04-26          901    1080.0\n",
              "2021-04-27          NaN       NaN\n",
              "2021-04-28          NaN       NaN\n",
              "2021-04-29          NaN       NaN\n",
              "2021-04-30          NaN       NaN\n",
              "2021-05-01          NaN       NaN\n",
              "2021-05-02          NaN       NaN\n",
              "2021-05-03          NaN       NaN"
            ]
          },
          "metadata": {
            "tags": []
          },
          "execution_count": 55
        }
      ]
    },
    {
      "cell_type": "code",
      "metadata": {
        "id": "ahDKtOYU7NGQ",
        "colab": {
          "base_uri": "https://localhost:8080/",
          "height": 700
        },
        "outputId": "edb93a7a-a93b-4e3c-b157-4aa878768167"
      },
      "source": [
        "future_df_drop = future_df.copy()\n",
        "future_df_drop = future_df_drop.dropna()\n",
        "future_df_drop"
      ],
      "execution_count": null,
      "outputs": [
        {
          "output_type": "execute_result",
          "data": {
            "text/html": [
              "<div>\n",
              "<style scoped>\n",
              "    .dataframe tbody tr th:only-of-type {\n",
              "        vertical-align: middle;\n",
              "    }\n",
              "\n",
              "    .dataframe tbody tr th {\n",
              "        vertical-align: top;\n",
              "    }\n",
              "\n",
              "    .dataframe thead th {\n",
              "        text-align: right;\n",
              "    }\n",
              "</style>\n",
              "<table border=\"1\" class=\"dataframe\">\n",
              "  <thead>\n",
              "    <tr style=\"text-align: right;\">\n",
              "      <th></th>\n",
              "      <th>Ground_truth</th>\n",
              "      <th>forecast</th>\n",
              "    </tr>\n",
              "  </thead>\n",
              "  <tbody>\n",
              "    <tr>\n",
              "      <th>2021-04-06</th>\n",
              "      <td>156</td>\n",
              "      <td>0.0</td>\n",
              "    </tr>\n",
              "    <tr>\n",
              "      <th>2021-04-07</th>\n",
              "      <td>216</td>\n",
              "      <td>155.0</td>\n",
              "    </tr>\n",
              "    <tr>\n",
              "      <th>2021-04-08</th>\n",
              "      <td>95</td>\n",
              "      <td>215.0</td>\n",
              "    </tr>\n",
              "    <tr>\n",
              "      <th>2021-04-09</th>\n",
              "      <td>266</td>\n",
              "      <td>96.0</td>\n",
              "    </tr>\n",
              "    <tr>\n",
              "      <th>2021-04-10</th>\n",
              "      <td>185</td>\n",
              "      <td>264.0</td>\n",
              "    </tr>\n",
              "    <tr>\n",
              "      <th>2021-04-11</th>\n",
              "      <td>236</td>\n",
              "      <td>186.0</td>\n",
              "    </tr>\n",
              "    <tr>\n",
              "      <th>2021-04-12</th>\n",
              "      <td>137</td>\n",
              "      <td>235.0</td>\n",
              "    </tr>\n",
              "    <tr>\n",
              "      <th>2021-04-13</th>\n",
              "      <td>194</td>\n",
              "      <td>218.0</td>\n",
              "    </tr>\n",
              "    <tr>\n",
              "      <th>2021-04-14</th>\n",
              "      <td>351</td>\n",
              "      <td>253.0</td>\n",
              "    </tr>\n",
              "    <tr>\n",
              "      <th>2021-04-15</th>\n",
              "      <td>409</td>\n",
              "      <td>222.0</td>\n",
              "    </tr>\n",
              "    <tr>\n",
              "      <th>2021-04-16</th>\n",
              "      <td>312</td>\n",
              "      <td>557.0</td>\n",
              "    </tr>\n",
              "    <tr>\n",
              "      <th>2021-04-17</th>\n",
              "      <td>279</td>\n",
              "      <td>262.0</td>\n",
              "    </tr>\n",
              "    <tr>\n",
              "      <th>2021-04-18</th>\n",
              "      <td>346</td>\n",
              "      <td>324.0</td>\n",
              "    </tr>\n",
              "    <tr>\n",
              "      <th>2021-04-19</th>\n",
              "      <td>293</td>\n",
              "      <td>247.0</td>\n",
              "    </tr>\n",
              "    <tr>\n",
              "      <th>2021-04-20</th>\n",
              "      <td>350</td>\n",
              "      <td>347.0</td>\n",
              "    </tr>\n",
              "    <tr>\n",
              "      <th>2021-04-21</th>\n",
              "      <td>365</td>\n",
              "      <td>490.0</td>\n",
              "    </tr>\n",
              "    <tr>\n",
              "      <th>2021-04-22</th>\n",
              "      <td>446</td>\n",
              "      <td>406.0</td>\n",
              "    </tr>\n",
              "    <tr>\n",
              "      <th>2021-04-23</th>\n",
              "      <td>740</td>\n",
              "      <td>389.0</td>\n",
              "    </tr>\n",
              "    <tr>\n",
              "      <th>2021-04-24</th>\n",
              "      <td>1582</td>\n",
              "      <td>660.0</td>\n",
              "    </tr>\n",
              "    <tr>\n",
              "      <th>2021-04-25</th>\n",
              "      <td>1078</td>\n",
              "      <td>1548.0</td>\n",
              "    </tr>\n",
              "    <tr>\n",
              "      <th>2021-04-26</th>\n",
              "      <td>901</td>\n",
              "      <td>1080.0</td>\n",
              "    </tr>\n",
              "  </tbody>\n",
              "</table>\n",
              "</div>"
            ],
            "text/plain": [
              "           Ground_truth  forecast\n",
              "2021-04-06          156       0.0\n",
              "2021-04-07          216     155.0\n",
              "2021-04-08           95     215.0\n",
              "2021-04-09          266      96.0\n",
              "2021-04-10          185     264.0\n",
              "2021-04-11          236     186.0\n",
              "2021-04-12          137     235.0\n",
              "2021-04-13          194     218.0\n",
              "2021-04-14          351     253.0\n",
              "2021-04-15          409     222.0\n",
              "2021-04-16          312     557.0\n",
              "2021-04-17          279     262.0\n",
              "2021-04-18          346     324.0\n",
              "2021-04-19          293     247.0\n",
              "2021-04-20          350     347.0\n",
              "2021-04-21          365     490.0\n",
              "2021-04-22          446     406.0\n",
              "2021-04-23          740     389.0\n",
              "2021-04-24         1582     660.0\n",
              "2021-04-25         1078    1548.0\n",
              "2021-04-26          901    1080.0"
            ]
          },
          "metadata": {
            "tags": []
          },
          "execution_count": 56
        }
      ]
    },
    {
      "cell_type": "code",
      "metadata": {
        "colab": {
          "base_uri": "https://localhost:8080/"
        },
        "id": "MLynpELLCs0U",
        "outputId": "e27275f7-98e5-4ef2-e35c-7d0dd1615ebe"
      },
      "source": [
        "from sklearn.metrics import mean_absolute_error\n",
        "MAE = mean_absolute_error(future_df_drop.Ground_truth, future_df_drop.forecast)\n",
        "print(\"Mean Absolute Error : %.3f\"%MAE)\n",
        "#164.905"
      ],
      "execution_count": null,
      "outputs": [
        {
          "output_type": "stream",
          "text": [
            "Mean Absolute Error : 164.905\n"
          ],
          "name": "stdout"
        }
      ]
    },
    {
      "cell_type": "code",
      "metadata": {
        "id": "LcwQahzTaGgJ"
      },
      "source": [
        "#!pip install pmdarima"
      ],
      "execution_count": null,
      "outputs": []
    },
    {
      "cell_type": "code",
      "metadata": {
        "id": "mpEU6oWLZ0Yq"
      },
      "source": [
        "#AUTO ARIMA\n",
        "#from pmdarima.arima import auto_arima\n",
        "#arima_model = auto_arima(df.iloc[0,:],start_p=0, d=1, start_q=0, \n",
        "#                          max_p=5, max_d=5, max_q=5, start_P=0, \n",
        "#                          D=1, start_Q=0, max_P=5, max_D=5,\n",
        "#                          max_Q=5, m=7, seasonal=True, \n",
        "#                          error_action='warn',trace = True,\n",
        "#                          supress_warnings=True,stepwise = True,\n",
        "#                          random_state=20,n_fits = 50 )\n"
      ],
      "execution_count": null,
      "outputs": []
    }
  ]
}